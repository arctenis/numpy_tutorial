{
  "nbformat": 4,
  "nbformat_minor": 0,
  "metadata": {
    "colab": {
      "name": "numpy00.ipynb",
      "provenance": [],
      "authorship_tag": "ABX9TyPx9ZZ+b/KNxr5jywffJ5Wn",
      "include_colab_link": true
    },
    "kernelspec": {
      "name": "python3",
      "display_name": "Python 3"
    },
    "language_info": {
      "name": "python"
    }
  },
  "cells": [
    {
      "cell_type": "markdown",
      "metadata": {
        "id": "view-in-github",
        "colab_type": "text"
      },
      "source": [
        "<a href=\"https://colab.research.google.com/github/arctenis/numpy_tutorial/blob/main/numpy00.ipynb\" target=\"_parent\"><img src=\"https://colab.research.google.com/assets/colab-badge.svg\" alt=\"Open In Colab\"/></a>"
      ]
    },
    {
      "cell_type": "code",
      "source": [
        "import numpy as np\n",
        "\n",
        "\n",
        "revenus = [1200, 2000, 1800, 3200, 4500]\n",
        "revenus_array = np.array(revenus)\n",
        "print(f\"revenus_array : {revenus_array}\")\n",
        "\n",
        "print(f\"moyenne : {np.mean(revenus_array)}\")\n",
        "\n",
        "print(f\"np.zeros(5) : {np.zeros(5)}\")\n",
        "print(f\"np.arange(1, 12, 3) : {np.arange(1, 12, 3)}\")\n",
        "print(f\"np.linspace(1, 12, 3) : {np.linspace(1, 12, 3)}\")\n",
        "print(f\"revenus_array.dtype : {revenus_array.dtype}\")\n"
      ],
      "metadata": {
        "colab": {
          "base_uri": "https://localhost:8080/"
        },
        "id": "sZtxGFsLO4NP",
        "outputId": "342811b1-ef44-4d55-c3b8-12bf9fce926e"
      },
      "execution_count": null,
      "outputs": [
        {
          "output_type": "stream",
          "name": "stdout",
          "text": [
            "revenus_array : [1200 2000 1800 3200 4500]\n",
            "moyenne : 2540.0\n",
            "np.zeros(5) : [0. 0. 0. 0. 0.]\n",
            "np.arange(1, 12, 3) : [ 1  4  7 10]\n",
            "np.linspace(1, 12, 3) : [ 1.   6.5 12. ]\n",
            "revenus_array.dtype : int64\n",
            "[1200 1800]\n"
          ]
        }
      ]
    },
    {
      "cell_type": "markdown",
      "source": [
        "Ajouter des conditions pour créer un autre _array_."
      ],
      "metadata": {
        "id": "eb1bjsffRaqK"
      }
    },
    {
      "cell_type": "code",
      "source": [
        "revenus_array[(revenus_array > 1000) & (revenus_array < 2000)]"
      ],
      "metadata": {
        "colab": {
          "base_uri": "https://localhost:8080/"
        },
        "id": "pKcLAJpvRhHb",
        "outputId": "fe54399d-14c6-46c7-f1f2-1000d78b6f32"
      },
      "execution_count": null,
      "outputs": [
        {
          "output_type": "execute_result",
          "data": {
            "text/plain": [
              "array([1200, 1800])"
            ]
          },
          "metadata": {},
          "execution_count": 15
        }
      ]
    },
    {
      "cell_type": "code",
      "source": [
        "revenus_array.mean()"
      ],
      "metadata": {
        "colab": {
          "base_uri": "https://localhost:8080/"
        },
        "id": "ustim8hTSENp",
        "outputId": "e793be27-05bf-4536-c57f-a7bf749eee25"
      },
      "execution_count": null,
      "outputs": [
        {
          "output_type": "execute_result",
          "data": {
            "text/plain": [
              "2540.0"
            ]
          },
          "metadata": {},
          "execution_count": 14
        }
      ]
    },
    {
      "cell_type": "code",
      "source": [
        "np.median(revenus_array)"
      ],
      "metadata": {
        "colab": {
          "base_uri": "https://localhost:8080/"
        },
        "id": "RDiT1Db-afLw",
        "outputId": "4547cd65-27c6-4724-e2c7-1920c04f0374"
      },
      "execution_count": null,
      "outputs": [
        {
          "output_type": "execute_result",
          "data": {
            "text/plain": [
              "2000.0"
            ]
          },
          "metadata": {},
          "execution_count": 19
        }
      ]
    },
    {
      "cell_type": "markdown",
      "source": [
        "## N dimensions\n"
      ],
      "metadata": {
        "id": "WPodbm824HMp"
      }
    },
    {
      "cell_type": "code",
      "source": [
        "np.ones((5, 7))"
      ],
      "metadata": {
        "colab": {
          "base_uri": "https://localhost:8080/"
        },
        "id": "224DUI1L4O06",
        "outputId": "4565947b-e4dd-4b74-f4c7-ab30d28cdff3"
      },
      "execution_count": null,
      "outputs": [
        {
          "output_type": "execute_result",
          "data": {
            "text/plain": [
              "array([[1., 1., 1., 1., 1., 1., 1.],\n",
              "       [1., 1., 1., 1., 1., 1., 1.],\n",
              "       [1., 1., 1., 1., 1., 1., 1.],\n",
              "       [1., 1., 1., 1., 1., 1., 1.],\n",
              "       [1., 1., 1., 1., 1., 1., 1.]])"
            ]
          },
          "metadata": {},
          "execution_count": 20
        }
      ]
    },
    {
      "cell_type": "code",
      "source": [
        "np.zeros((8, 8))"
      ],
      "metadata": {
        "colab": {
          "base_uri": "https://localhost:8080/"
        },
        "id": "VSXcg3PW4aVD",
        "outputId": "59fd02bd-483c-498e-dd48-3605cbd41bfe"
      },
      "execution_count": null,
      "outputs": [
        {
          "output_type": "execute_result",
          "data": {
            "text/plain": [
              "array([[0., 0., 0., 0., 0., 0., 0., 0.],\n",
              "       [0., 0., 0., 0., 0., 0., 0., 0.],\n",
              "       [0., 0., 0., 0., 0., 0., 0., 0.],\n",
              "       [0., 0., 0., 0., 0., 0., 0., 0.],\n",
              "       [0., 0., 0., 0., 0., 0., 0., 0.],\n",
              "       [0., 0., 0., 0., 0., 0., 0., 0.],\n",
              "       [0., 0., 0., 0., 0., 0., 0., 0.],\n",
              "       [0., 0., 0., 0., 0., 0., 0., 0.]])"
            ]
          },
          "metadata": {},
          "execution_count": 21
        }
      ]
    },
    {
      "cell_type": "code",
      "source": [
        "np.random.random((4, 2))"
      ],
      "metadata": {
        "colab": {
          "base_uri": "https://localhost:8080/"
        },
        "id": "Pp2z932E4fwe",
        "outputId": "e1a1725f-5db4-4b26-dce9-4dbd99c5646c"
      },
      "execution_count": null,
      "outputs": [
        {
          "output_type": "execute_result",
          "data": {
            "text/plain": [
              "array([[0.0374575 , 0.07891188],\n",
              "       [0.64661962, 0.8324498 ],\n",
              "       [0.91459142, 0.78014782],\n",
              "       [0.39033644, 0.84992238]])"
            ]
          },
          "metadata": {},
          "execution_count": 23
        }
      ]
    },
    {
      "cell_type": "code",
      "source": [
        "np.random.randint(1, 6, size=(6, 6))"
      ],
      "metadata": {
        "colab": {
          "base_uri": "https://localhost:8080/"
        },
        "id": "fPU2cT994mMD",
        "outputId": "f1390d82-5395-45e1-c0cf-2f59c5a86003"
      },
      "execution_count": null,
      "outputs": [
        {
          "output_type": "execute_result",
          "data": {
            "text/plain": [
              "array([[4, 4, 2, 4, 3, 5],\n",
              "       [2, 2, 5, 2, 1, 3],\n",
              "       [3, 5, 5, 3, 2, 3],\n",
              "       [1, 2, 2, 2, 3, 4],\n",
              "       [3, 4, 2, 2, 3, 3],\n",
              "       [5, 3, 2, 5, 2, 5]])"
            ]
          },
          "metadata": {},
          "execution_count": 24
        }
      ]
    },
    {
      "cell_type": "code",
      "source": [
        "a = np.linspace(5, 10, 11)\n",
        "print(a)\n",
        "\n",
        "print(a[-3:-1])"
      ],
      "metadata": {
        "colab": {
          "base_uri": "https://localhost:8080/"
        },
        "id": "u6Z23fbS-n81",
        "outputId": "d57457c1-afc8-475e-a1d7-d3fed9fe71b4"
      },
      "execution_count": null,
      "outputs": [
        {
          "output_type": "stream",
          "name": "stdout",
          "text": [
            "[ 5.   5.5  6.   6.5  7.   7.5  8.   8.5  9.   9.5 10. ]\n",
            "[9.  9.5]\n"
          ]
        }
      ]
    },
    {
      "cell_type": "code",
      "source": [
        "b = np.array([[[1, 2],[4, 5]],\n",
        "\n",
        "        [[6, 7],[8, 9]],\n",
        "\n",
        "        [[10, 11],[12, 13]]])\n",
        "display(b.shape)\n",
        "display(b[2, :, :])"
      ],
      "metadata": {
        "colab": {
          "base_uri": "https://localhost:8080/",
          "height": 69
        },
        "id": "Dl2B171g--Wi",
        "outputId": "125f04a1-0533-4608-cc3a-56d2f1976906"
      },
      "execution_count": null,
      "outputs": [
        {
          "output_type": "display_data",
          "data": {
            "text/plain": [
              "(3, 2, 2)"
            ]
          },
          "metadata": {}
        },
        {
          "output_type": "display_data",
          "data": {
            "text/plain": [
              "array([[10, 11],\n",
              "       [12, 13]])"
            ]
          },
          "metadata": {}
        }
      ]
    }
  ]
}